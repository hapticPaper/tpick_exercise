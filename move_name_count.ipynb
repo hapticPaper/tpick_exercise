{
 "cells": [
  {
   "cell_type": "code",
   "execution_count": 34,
   "id": "7f0b1f51",
   "metadata": {},
   "outputs": [],
   "source": [
    "import requests, os, datetime, time, json\n",
    "import logging\n",
    "import structlog\n",
    "\n",
    "structlog.configure(\n",
    "    wrapper_class=structlog.make_filtering_bound_logger(logging.DEBUG),\n",
    ")\n",
    "\n",
    "l = structlog.get_logger()"
   ]
  },
  {
   "cell_type": "code",
   "execution_count": 8,
   "id": "953c2ef1",
   "metadata": {},
   "outputs": [],
   "source": [
    "session = requests.Session()"
   ]
  },
  {
   "cell_type": "code",
   "execution_count": 9,
   "id": "1aef0eac",
   "metadata": {},
   "outputs": [],
   "source": [
    "gens = session.get(\"https://pokeapi.co/api/v2/generation/\").json()"
   ]
  },
  {
   "cell_type": "code",
   "execution_count": 10,
   "id": "9524fc55",
   "metadata": {},
   "outputs": [
    {
     "data": {
      "text/plain": [
       "[('generation-i', 'https://pokeapi.co/api/v2/generation/1/'),\n",
       " ('generation-ii', 'https://pokeapi.co/api/v2/generation/2/'),\n",
       " ('generation-iii', 'https://pokeapi.co/api/v2/generation/3/'),\n",
       " ('generation-iv', 'https://pokeapi.co/api/v2/generation/4/'),\n",
       " ('generation-v', 'https://pokeapi.co/api/v2/generation/5/'),\n",
       " ('generation-vi', 'https://pokeapi.co/api/v2/generation/6/'),\n",
       " ('generation-vii', 'https://pokeapi.co/api/v2/generation/7/'),\n",
       " ('generation-viii', 'https://pokeapi.co/api/v2/generation/8/'),\n",
       " ('generation-ix', 'https://pokeapi.co/api/v2/generation/9/')]"
      ]
     },
     "execution_count": 10,
     "metadata": {},
     "output_type": "execute_result"
    }
   ],
   "source": [
    "[(g['name'], g['url']) for g in gens['results']]"
   ]
  },
  {
   "cell_type": "code",
   "execution_count": 23,
   "id": "c7f4c153",
   "metadata": {},
   "outputs": [
    {
     "name": "stdout",
     "output_type": "stream",
     "text": [
      "generation-i acid\n",
      "generation-i aurora-beam\n",
      "generation-i absorb\n",
      "generation-i agility\n",
      "generation-i amnesia\n",
      "generation-i acid-armor\n",
      "generation-ii aeroblast\n",
      "generation-ii attract\n",
      "generation-ii ancient-power\n",
      "generation-iii assist\n",
      "generation-iii arm-thrust\n",
      "generation-iii astonish\n",
      "generation-iii aromatherapy\n",
      "generation-iii air-cutter\n",
      "generation-iii aerial-ace\n",
      "generation-iv acupressure\n",
      "generation-iv assurance\n",
      "generation-iv aqua-ring\n",
      "generation-iv aura-sphere\n",
      "generation-iv aqua-tail\n",
      "generation-iv air-slash\n",
      "generation-iv avalanche\n",
      "generation-iv aqua-jet\n",
      "generation-iv attack-order\n",
      "generation-v autotomize\n",
      "generation-v acid-spray\n",
      "generation-v after-you\n",
      "generation-v ally-switch\n",
      "generation-v acrobatics\n",
      "generation-vi aromatic-mist\n",
      "generation-vii all-out-pummeling--physical\n",
      "generation-vii all-out-pummeling--special\n",
      "generation-vii acid-downpour--physical\n",
      "generation-vii acid-downpour--special\n",
      "generation-vii anchor-shot\n",
      "generation-vii aurora-veil\n",
      "generation-vii accelerock\n",
      "generation-viii aura-wheel\n",
      "generation-viii apple-acid\n",
      "generation-viii astral-barrage\n",
      "generation-ix axe-kick\n",
      "generation-ix aqua-step\n",
      "generation-ix armor-cannon\n",
      "generation-ix aqua-cutter\n",
      "generation-ix alluring-voice\n"
     ]
    }
   ],
   "source": [
    "move_count={}\n",
    "for gen in gens['results']:\n",
    "    move_count[gen['name']]=0\n",
    "    try:\n",
    "        l.info(f\"Pulling {gen['name']}\", url=gen['url'])\n",
    "        r=session.get(gen['url']).json()\n",
    "        for move in r['moves']:\n",
    "            if move['name'][:1] in ['a', 'A']:\n",
    "                #print(gen['name'], move['name'])\n",
    "                move_count[gen['name']]+=1\n",
    "    except Exception as e:\n",
    "        l.error(f\"{gen['name']} failed\", error=e)"
   ]
  },
  {
   "cell_type": "code",
   "execution_count": 25,
   "id": "20916fd2",
   "metadata": {},
   "outputs": [
    {
     "data": {
      "text/plain": [
       "{'generation-i': 6,\n",
       " 'generation-ii': 3,\n",
       " 'generation-iii': 6,\n",
       " 'generation-iv': 9,\n",
       " 'generation-v': 5,\n",
       " 'generation-vi': 1,\n",
       " 'generation-vii': 7,\n",
       " 'generation-viii': 3,\n",
       " 'generation-ix': 5}"
      ]
     },
     "execution_count": 25,
     "metadata": {},
     "output_type": "execute_result"
    }
   ],
   "source": [
    "move_count"
   ]
  },
  {
   "cell_type": "code",
   "execution_count": 35,
   "id": "f51babe7",
   "metadata": {},
   "outputs": [
    {
     "name": "stdout",
     "output_type": "stream",
     "text": [
      "\u001b[2m2024-05-07 11:44:36\u001b[0m [\u001b[32m\u001b[1minfo     \u001b[0m] \u001b[1mThe generation with the most moves beginning with 'a' or 'A' was generation-iv with 9 moves.\u001b[0m\n"
     ]
    }
   ],
   "source": [
    "m = [None, 0]\n",
    "for k,v in move_count.items():\n",
    "    if v>m[1]:\n",
    "        m[0]=k\n",
    "        m[1]=v\n",
    "l.info(f\"The generation with the most moves beginning with 'a' or 'A' was {m[0]} with {m[1]} moves.\")"
   ]
  }
 ],
 "metadata": {
  "kernelspec": {
   "display_name": "Python 3 (ipykernel)",
   "language": "python",
   "name": "python3"
  },
  "language_info": {
   "codemirror_mode": {
    "name": "ipython",
    "version": 3
   },
   "file_extension": ".py",
   "mimetype": "text/x-python",
   "name": "python",
   "nbconvert_exporter": "python",
   "pygments_lexer": "ipython3",
   "version": "3.11.0"
  }
 },
 "nbformat": 4,
 "nbformat_minor": 5
}
